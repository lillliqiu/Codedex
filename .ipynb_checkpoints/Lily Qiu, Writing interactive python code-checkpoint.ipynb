{
 "cells": [
  {
   "cell_type": "markdown",
   "id": "c8ebda7c",
   "metadata": {},
   "source": [
    "# First Python Code"
   ]
  },
  {
   "cell_type": "code",
   "execution_count": null,
   "id": "e3444362",
   "metadata": {},
   "outputs": [],
   "source": [
    "name = input(\"What is your name?\")\n",
    "print(\"Hello! Nice to meet you,\", name)\n",
    "print(input(\"What is your favorite color?\"))"
   ]
  },
  {
   "cell_type": "code",
   "execution_count": null,
   "id": "94f1327b",
   "metadata": {},
   "outputs": [],
   "source": []
  }
 ],
 "metadata": {
  "kernelspec": {
   "display_name": "Python 3 (ipykernel)",
   "language": "python",
   "name": "python3"
  },
  "language_info": {
   "codemirror_mode": {
    "name": "ipython",
    "version": 3
   },
   "file_extension": ".py",
   "mimetype": "text/x-python",
   "name": "python",
   "nbconvert_exporter": "python",
   "pygments_lexer": "ipython3",
   "version": "3.9.13"
  }
 },
 "nbformat": 4,
 "nbformat_minor": 5
}
