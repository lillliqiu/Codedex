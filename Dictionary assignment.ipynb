{
 "cells": [
  {
   "cell_type": "markdown",
   "id": "fbaf2e99",
   "metadata": {},
   "source": [
    "Given a dictionary of students and their grades, write a function that takes in the dictionary as an argument (e.g., def highest_grade(students) and returns the student with the highest grade.\n",
    "Sample output:\n",
    "students = { \"Alice\": 90, \"Bob\": 80, \"Charlie\": 95, \"David\": 75 }\n",
    "Output must be:  Charlie "
   ]
  },
  {
   "cell_type": "code",
   "execution_count": 4,
   "id": "2545f01f",
   "metadata": {},
   "outputs": [],
   "source": [
    "def highest_grade(h):\n",
    "    return max(h, key = h.get)"
   ]
  },
  {
   "cell_type": "code",
   "execution_count": 5,
   "id": "35fa87b4",
   "metadata": {},
   "outputs": [
    {
     "name": "stdout",
     "output_type": "stream",
     "text": [
      "{'Alice': 90, 'Bob': 80, 'Charlie': 100, 'David': 65}\n",
      "Charlie\n"
     ]
    }
   ],
   "source": [
    "students = {'Alice':90,'Bob':80, 'Charlie':100, 'David':65}\n",
    "print(students)\n",
    "print(highest_grade(students))"
   ]
  },
  {
   "cell_type": "code",
   "execution_count": null,
   "id": "79fdb461",
   "metadata": {},
   "outputs": [],
   "source": []
  }
 ],
 "metadata": {
  "kernelspec": {
   "display_name": "Python 3 (ipykernel)",
   "language": "python",
   "name": "python3"
  },
  "language_info": {
   "codemirror_mode": {
    "name": "ipython",
    "version": 3
   },
   "file_extension": ".py",
   "mimetype": "text/x-python",
   "name": "python",
   "nbconvert_exporter": "python",
   "pygments_lexer": "ipython3",
   "version": "3.9.13"
  }
 },
 "nbformat": 4,
 "nbformat_minor": 5
}
