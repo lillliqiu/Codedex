{
 "cells": [
  {
   "cell_type": "markdown",
   "id": "48ced32c",
   "metadata": {},
   "source": [
    "# Functions"
   ]
  },
  {
   "cell_type": "markdown",
   "id": "50aee02d",
   "metadata": {},
   "source": [
    "<h3> What are Functions? </h3>\n",
    "<b> Functions </b> - set of statements that exists within a program as a logical unit to perform a specific task.\n",
    "\n",
    "<h3> Why Functions? </h3> \n",
    "Modularization and Simplicity, Readability <br>\n",
    "Code Reuse, Faster Development, Minimizing Repetition of code <br>\n",
    "Better Debugging/Testing <br>\n",
    "Modularization and Collaboration <br>"
   ]
  },
  {
   "cell_type": "markdown",
   "id": "8a5ba4cd",
   "metadata": {},
   "source": [
    "Write a Function 'repeat_name' that takes a name and prints it five times in the same line. <br>"
   ]
  },
  {
   "cell_type": "code",
   "execution_count": 1,
   "id": "3c5c3745",
   "metadata": {},
   "outputs": [
    {
     "name": "stdout",
     "output_type": "stream",
     "text": [
      "Enter a name: Lily\n",
      "LilyLilyLilyLilyLily\n"
     ]
    }
   ],
   "source": [
    "def repeat_name(name):\n",
    "    print(name*5)\n",
    "\n",
    "user_name=input('Enter a name: ')\n",
    "repeat_name(user_name)\n",
    "\n",
    "# name is a parameter to the function. abc is the argument that gets passed to the function."
   ]
  },
  {
   "cell_type": "markdown",
   "id": "b001be99",
   "metadata": {},
   "source": [
    "Write a function that takes two numbers as parameters and prints the sum of the two numbers.<br>"
   ]
  },
  {
   "cell_type": "code",
   "execution_count": 2,
   "id": "a770478f",
   "metadata": {},
   "outputs": [
    {
     "name": "stdout",
     "output_type": "stream",
     "text": [
      "Enter the first number: 2\n",
      "Enter the second number: 3\n",
      "printing within function: 5.0\n"
     ]
    },
    {
     "ename": "NameError",
     "evalue": "name 'sum1' is not defined",
     "output_type": "error",
     "traceback": [
      "\u001b[1;31m---------------------------------------------------------------------------\u001b[0m",
      "\u001b[1;31mNameError\u001b[0m                                 Traceback (most recent call last)",
      "\u001b[1;32m~\\AppData\\Local\\Temp\\ipykernel_15924\\4292326368.py\u001b[0m in \u001b[0;36m<module>\u001b[1;34m\u001b[0m\n\u001b[0;32m      6\u001b[0m \u001b[0mn2\u001b[0m\u001b[1;33m=\u001b[0m\u001b[0mfloat\u001b[0m\u001b[1;33m(\u001b[0m\u001b[0minput\u001b[0m\u001b[1;33m(\u001b[0m\u001b[1;34m'Enter the second number: '\u001b[0m\u001b[1;33m)\u001b[0m\u001b[1;33m)\u001b[0m\u001b[1;33m\u001b[0m\u001b[1;33m\u001b[0m\u001b[0m\n\u001b[0;32m      7\u001b[0m \u001b[0madd_nums\u001b[0m\u001b[1;33m(\u001b[0m\u001b[0mn1\u001b[0m\u001b[1;33m,\u001b[0m\u001b[0mn2\u001b[0m\u001b[1;33m)\u001b[0m\u001b[1;33m\u001b[0m\u001b[1;33m\u001b[0m\u001b[0m\n\u001b[1;32m----> 8\u001b[1;33m \u001b[0mprint\u001b[0m\u001b[1;33m(\u001b[0m\u001b[1;34m'printing outside function:'\u001b[0m\u001b[1;33m,\u001b[0m \u001b[0msum1\u001b[0m\u001b[1;33m)\u001b[0m\u001b[1;33m\u001b[0m\u001b[1;33m\u001b[0m\u001b[0m\n\u001b[0m\u001b[0;32m      9\u001b[0m \u001b[1;31m# n1, n2 are global\u001b[0m\u001b[1;33m\u001b[0m\u001b[1;33m\u001b[0m\u001b[0m\n\u001b[0;32m     10\u001b[0m \u001b[1;31m# what about sum1? Will the program run correctly? Fix any errors.\u001b[0m\u001b[1;33m\u001b[0m\u001b[1;33m\u001b[0m\u001b[0m\n",
      "\u001b[1;31mNameError\u001b[0m: name 'sum1' is not defined"
     ]
    }
   ],
   "source": [
    "def add_nums(num1, num2):\n",
    "    sum1=num1+num2\n",
    "    print('printing within function:', sum1)\n",
    "\n",
    "n1=float(input('Enter the first number: '))\n",
    "n2=float(input('Enter the second number: '))\n",
    "add_nums(n1,n2)\n",
    "print('printing outside function:', sum1)\n",
    "# n1, n2 are global\n",
    "# what about sum1? Will the program run correctly? Fix any errors."
   ]
  },
  {
   "cell_type": "markdown",
   "id": "b21b8300",
   "metadata": {},
   "source": [
    "Write a Function 'add_nums' to add two numbers and return the sum to the program that calls the function. Invoke the function to show that it works."
   ]
  },
  {
   "cell_type": "code",
   "execution_count": 3,
   "id": "81688cf9",
   "metadata": {},
   "outputs": [
    {
     "name": "stdout",
     "output_type": "stream",
     "text": [
      "Enter the first number: 3\n",
      "Enter the second number: 5\n",
      "printing outside function: 8.0\n"
     ]
    }
   ],
   "source": [
    "def add_nums(num1, num2):\n",
    "    sum2=num1+num2\n",
    "    #print('printing within function:', sum2)\n",
    "    return sum2\n",
    "n1=float(input('Enter the first number: '))\n",
    "n2=float(input('Enter the second number: '))\n",
    "#add_nums(n1,n2)\n",
    "print('printing outside function:', add_nums(n1,n2))\n",
    "# n1, n2 are global\n",
    "# what about sum1? Will the program run correctly? Fix any errors."
   ]
  },
  {
   "cell_type": "markdown",
   "id": "82a06b4f",
   "metadata": {},
   "source": [
    "Write functions compute_pay, compute_taxes, and compute_benefits for an hourly employee. These functions take in number hours worked in a week as a parameter (see Functions JNB for additional information)."
   ]
  },
  {
   "cell_type": "code",
   "execution_count": 4,
   "id": "7dea0264",
   "metadata": {},
   "outputs": [
    {
     "name": "stdout",
     "output_type": "stream",
     "text": [
      "Enter Hours Worked 400\n"
     ]
    },
    {
     "ename": "NameError",
     "evalue": "name 'basehr' is not defined",
     "output_type": "error",
     "traceback": [
      "\u001b[1;31m---------------------------------------------------------------------------\u001b[0m",
      "\u001b[1;31mNameError\u001b[0m                                 Traceback (most recent call last)",
      "\u001b[1;32m~\\AppData\\Local\\Temp\\ipykernel_15924\\91104080.py\u001b[0m in \u001b[0;36m<module>\u001b[1;34m\u001b[0m\n\u001b[0;32m     38\u001b[0m \u001b[1;33m\u001b[0m\u001b[0m\n\u001b[0;32m     39\u001b[0m \u001b[1;33m\u001b[0m\u001b[0m\n\u001b[1;32m---> 40\u001b[1;33m \u001b[0mmain\u001b[0m\u001b[1;33m(\u001b[0m\u001b[1;33m)\u001b[0m\u001b[1;33m\u001b[0m\u001b[1;33m\u001b[0m\u001b[0m\n\u001b[0m",
      "\u001b[1;32m~\\AppData\\Local\\Temp\\ipykernel_15924\\91104080.py\u001b[0m in \u001b[0;36mmain\u001b[1;34m()\u001b[0m\n\u001b[0;32m     30\u001b[0m     \u001b[1;31m# run this cell after clearing the working memory by using %whos, %reset\u001b[0m\u001b[1;33m\u001b[0m\u001b[1;33m\u001b[0m\u001b[0m\n\u001b[0;32m     31\u001b[0m     \u001b[0mhrs\u001b[0m\u001b[1;33m=\u001b[0m\u001b[0mint\u001b[0m\u001b[1;33m(\u001b[0m\u001b[0minput\u001b[0m\u001b[1;33m(\u001b[0m\u001b[1;34m'Enter Hours Worked '\u001b[0m\u001b[1;33m)\u001b[0m\u001b[1;33m)\u001b[0m\u001b[1;33m\u001b[0m\u001b[1;33m\u001b[0m\u001b[0m\n\u001b[1;32m---> 32\u001b[1;33m     \u001b[0mhourly_pay\u001b[0m\u001b[1;33m=\u001b[0m\u001b[0mcompute_pay\u001b[0m\u001b[1;33m(\u001b[0m\u001b[0mhrs\u001b[0m\u001b[1;33m)\u001b[0m\u001b[1;33m\u001b[0m\u001b[1;33m\u001b[0m\u001b[0m\n\u001b[0m\u001b[0;32m     33\u001b[0m     \u001b[0mnet_pay\u001b[0m\u001b[1;33m=\u001b[0m\u001b[0mhourly_pay\u001b[0m\u001b[1;33m-\u001b[0m\u001b[1;33m(\u001b[0m\u001b[0mcompute_taxes\u001b[0m\u001b[1;33m(\u001b[0m\u001b[0mhrs\u001b[0m\u001b[1;33m)\u001b[0m\u001b[1;33m+\u001b[0m\u001b[0mcompute_benefits\u001b[0m\u001b[1;33m(\u001b[0m\u001b[0mhrs\u001b[0m\u001b[1;33m)\u001b[0m\u001b[1;33m)\u001b[0m\u001b[1;33m\u001b[0m\u001b[1;33m\u001b[0m\u001b[0m\n\u001b[0;32m     34\u001b[0m     \u001b[0mprint\u001b[0m\u001b[1;33m(\u001b[0m\u001b[1;34m'Your gross pay: $'\u001b[0m\u001b[1;33m,\u001b[0m \u001b[0mhourly_pay\u001b[0m\u001b[1;33m,\u001b[0m \u001b[0msep\u001b[0m\u001b[1;33m=\u001b[0m\u001b[1;34m''\u001b[0m\u001b[1;33m)\u001b[0m\u001b[1;33m\u001b[0m\u001b[1;33m\u001b[0m\u001b[0m\n",
      "\u001b[1;32m~\\AppData\\Local\\Temp\\ipykernel_15924\\91104080.py\u001b[0m in \u001b[0;36mcompute_pay\u001b[1;34m(hours)\u001b[0m\n\u001b[0;32m      1\u001b[0m \u001b[1;32mdef\u001b[0m \u001b[0mcompute_pay\u001b[0m\u001b[1;33m(\u001b[0m\u001b[0mhours\u001b[0m\u001b[1;33m)\u001b[0m\u001b[1;33m:\u001b[0m\u001b[1;33m\u001b[0m\u001b[1;33m\u001b[0m\u001b[0m\n\u001b[1;32m----> 2\u001b[1;33m     \u001b[1;32mif\u001b[0m \u001b[0mhours\u001b[0m\u001b[1;33m>\u001b[0m\u001b[0mbasehr\u001b[0m\u001b[1;33m:\u001b[0m\u001b[1;33m\u001b[0m\u001b[1;33m\u001b[0m\u001b[0m\n\u001b[0m\u001b[0;32m      3\u001b[0m         \u001b[0mot_hr\u001b[0m\u001b[1;33m=\u001b[0m\u001b[0mhours\u001b[0m\u001b[1;33m-\u001b[0m\u001b[0mbasehr\u001b[0m\u001b[1;33m\u001b[0m\u001b[1;33m\u001b[0m\u001b[0m\n\u001b[0;32m      4\u001b[0m         \u001b[0mpay\u001b[0m\u001b[1;33m=\u001b[0m\u001b[1;33m(\u001b[0m\u001b[0mbasehr\u001b[0m\u001b[1;33m*\u001b[0m\u001b[0mbasepay\u001b[0m\u001b[1;33m)\u001b[0m\u001b[1;33m+\u001b[0m\u001b[1;33m(\u001b[0m\u001b[0mot_hr\u001b[0m\u001b[1;33m*\u001b[0m\u001b[0mbasepay\u001b[0m\u001b[1;33m*\u001b[0m\u001b[1;36m1.5\u001b[0m\u001b[1;33m)\u001b[0m\u001b[1;33m\u001b[0m\u001b[1;33m\u001b[0m\u001b[0m\n\u001b[0;32m      5\u001b[0m     \u001b[1;32melse\u001b[0m\u001b[1;33m:\u001b[0m\u001b[1;33m\u001b[0m\u001b[1;33m\u001b[0m\u001b[0m\n",
      "\u001b[1;31mNameError\u001b[0m: name 'basehr' is not defined"
     ]
    }
   ],
   "source": [
    "def compute_pay(hours):\n",
    "    if hours>basehr:\n",
    "        ot_hr=hours-basehr\n",
    "        pay=(basehr*basepay)+(ot_hr*basepay*1.5)\n",
    "    else:\n",
    "        pay=(hours*basepay)\n",
    "    return pay\n",
    "\n",
    "def compute_taxes(hours):\n",
    "    if hours>basehr:\n",
    "        ot_hr=hours-basehr\n",
    "        taxes=(basehr*basepay*.05)+(ot_hr*basepay*1.5*.10)\n",
    "        # tax rate is 5% for regular hours and 10% for OT hours\n",
    "    else:\n",
    "        taxes=(hours*basepay*.05)\n",
    "    return taxes\n",
    "        \n",
    "def compute_benefits(hours):\n",
    "    benefits = hours*basepay*0.05\n",
    "    #\n",
    "    # benefits = compute_pay(hours)*0.05\n",
    "    # the logic for computing benefits can be different\n",
    "    # benefits is a flat 5% of actual wages earned if benefits = compute_pay(hours)*0.05\n",
    "    #\n",
    "    return benefits\n",
    "\n",
    "def main():\n",
    "    basehr=40   # Global Variables? Will this work?\n",
    "    basepay=20   # Global Variables? Will this work?\n",
    "    # run this cell after clearing the working memory by using %whos, %reset\n",
    "    hrs=int(input('Enter Hours Worked '))\n",
    "    hourly_pay=compute_pay(hrs)\n",
    "    net_pay=hourly_pay-(compute_taxes(hrs)+compute_benefits(hrs))\n",
    "    print('Your gross pay: $', hourly_pay, sep='')\n",
    "    print('Your taxes: $', compute_taxes(hrs))\n",
    "    print('Your benefits: $', compute_benefits(hrs))\n",
    "    print('Your net pay: $', net_pay, sep='')\n",
    "\n",
    "    \n",
    "main()"
   ]
  },
  {
   "cell_type": "code",
   "execution_count": null,
   "id": "e244bd8a",
   "metadata": {},
   "outputs": [],
   "source": []
  }
 ],
 "metadata": {
  "kernelspec": {
   "display_name": "Python 3 (ipykernel)",
   "language": "python",
   "name": "python3"
  },
  "language_info": {
   "codemirror_mode": {
    "name": "ipython",
    "version": 3
   },
   "file_extension": ".py",
   "mimetype": "text/x-python",
   "name": "python",
   "nbconvert_exporter": "python",
   "pygments_lexer": "ipython3",
   "version": "3.9.13"
  }
 },
 "nbformat": 4,
 "nbformat_minor": 5
}
